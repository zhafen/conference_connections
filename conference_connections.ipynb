{
 "cells": [
  {
   "cell_type": "markdown",
   "id": "4e9a4a55-c54b-4ad5-a2b0-edc1a3158d9d",
   "metadata": {},
   "source": [
    "# Conference Connections\n",
    "This notebook demonstrates how to make a map of the research for attendees of a conference."
   ]
  },
  {
   "cell_type": "code",
   "execution_count": null,
   "id": "2ad26b46-6280-4da7-93c5-cffd0850e898",
   "metadata": {},
   "outputs": [],
   "source": [
    "import copy\n",
    "import numpy as np\n",
    "import os\n",
    "import pandas as pd\n",
    "import tqdm"
   ]
  },
  {
   "cell_type": "code",
   "execution_count": null,
   "id": "2b92d299-94ab-4d53-bd86-8133299fee50",
   "metadata": {},
   "outputs": [],
   "source": [
    "import matplotlib\n",
    "import matplotlib.pyplot as plt\n",
    "\n",
    "matplotlib.style.use( '/Users/zhafen/repos/clean-bold/clean-bold.mplstyle' )"
   ]
  },
  {
   "cell_type": "code",
   "execution_count": null,
   "id": "0d81ba7b-82e6-45ba-98ab-5b3cd29d9fe6",
   "metadata": {},
   "outputs": [],
   "source": [
    "import ads"
   ]
  },
  {
   "cell_type": "code",
   "execution_count": null,
   "id": "69efcf06-687e-4dd1-af14-3b14dd8a62c5",
   "metadata": {},
   "outputs": [],
   "source": [
    "import verdict"
   ]
  },
  {
   "cell_type": "code",
   "execution_count": null,
   "id": "9f20f9db-0199-4f1d-85cd-7c340d359e3d",
   "metadata": {},
   "outputs": [],
   "source": [
    "import cc.atlas as atlas\n",
    "import cc.cartography as cartography"
   ]
  },
  {
   "cell_type": "markdown",
   "id": "2e6fff07-06cf-44b5-8e32-0b1020520188",
   "metadata": {},
   "source": [
    "# Analysis Paramters"
   ]
  },
  {
   "cell_type": "code",
   "execution_count": null,
   "id": "e6f72737-5e13-406d-be84-b44e44dea845",
   "metadata": {},
   "outputs": [],
   "source": [
    "scientists_csv_fp = './data/attendees.csv'\n",
    "scientists_fp = './data/scientists.hdf5'\n",
    "atlas_dir = './data'"
   ]
  },
  {
   "cell_type": "code",
   "execution_count": null,
   "id": "f4144012-e629-4aa1-981f-4bc306354b1b",
   "metadata": {},
   "outputs": [],
   "source": [
    "retrieve_data = True"
   ]
  },
  {
   "cell_type": "code",
   "execution_count": null,
   "id": "ad13b551-75e7-4314-ad96-68edbc6bd82a",
   "metadata": {},
   "outputs": [],
   "source": [
    "# When used names are different from names on ADS\n",
    "formatted_names = {\n",
    "    'Chris Howk': 'Howk, J',\n",
    "    'Mark Voit': 'Voit, G',\n",
    "}"
   ]
  },
  {
   "cell_type": "code",
   "execution_count": null,
   "id": "b3af65ea-8eb2-4376-bf6c-c258f2d026f2",
   "metadata": {},
   "outputs": [],
   "source": [
    "# When there are multiple individuals with the same last name we can filter on the first name\n",
    "bibtex_names = {\n",
    "    'Carlos Vargas': 'Carlos J.',\n",
    "    'Charlotte Christensen': 'Charlotte',\n",
    "    'Evan Schneider': 'Evan',\n",
    "    'Kate Rubin': 'Kate',\n",
    "    'Michelle Berg': 'Michelle',\n",
    "    'Nao Suzuki': 'Nao ',\n",
    "    'Ramona Augustin': 'Ramona',\n",
    "    'Stephanie Ho': 'Stephanie',\n",
    "    'Yong Zheng': 'Yong',\n",
    "}"
   ]
  },
  {
   "cell_type": "code",
   "execution_count": null,
   "id": "0271c334-8425-4d5f-a2ce-10db5fe4c27b",
   "metadata": {},
   "outputs": [],
   "source": [
    "ads_field_list = [\n",
    "    'abstract',\n",
    "    'citation',\n",
    "    'reference',\n",
    "    'date',\n",
    "    'entry_date',\n",
    "    'author',\n",
    "    'volume',\n",
    "    'page',\n",
    "    'bibcode',\n",
    "    'arxivid',\n",
    "    'doi',\n",
    "]"
   ]
  },
  {
   "cell_type": "markdown",
   "id": "008b14c9-1e1a-40b5-8825-9a0cb18c8877",
   "metadata": {},
   "source": [
    "# Retrieve and Process Data"
   ]
  },
  {
   "cell_type": "code",
   "execution_count": null,
   "id": "777dbc5b-3a1b-4633-a6e4-894af0d65195",
   "metadata": {},
   "outputs": [],
   "source": [
    "if retrieve_data:\n",
    "    scientists_df = pd.read_csv( scientists_csv_fp )\n",
    "    \n",
    "    # Get data from ADS\n",
    "    scientists = verdict.Dict.from_hdf5( scientists_fp, create_nonexistent=True )\n",
    "    bibcodes = []\n",
    "    for i in tqdm.tqdm( scientists_df.index ):\n",
    "\n",
    "        row = scientists_df.loc[i]\n",
    "\n",
    "        # Get and format the name\n",
    "        name = row['Name']\n",
    "        if name not in formatted_names:\n",
    "            name_split = name.split( ' ' )\n",
    "            last_name = name_split[-1]\n",
    "            first_init = name_split[0][0]\n",
    "            formatted_name = '{}, {}'.format( last_name, first_init )\n",
    "        else:\n",
    "            formatted_name = formatted_names[name]\n",
    "\n",
    "        # Retrieve data from ADS\n",
    "        q = ads.SearchQuery(\n",
    "            author = formatted_name,\n",
    "            fl = ads_field_list,\n",
    "            max_pages = 50,\n",
    "        )\n",
    "        papers_i = list( q )\n",
    "        bibcodes_i = [ _.bibcode for _ in papers_i ]\n",
    "        \n",
    "        # Retrieve first author data from ADS\n",
    "        q = ads.SearchQuery(\n",
    "            first_author = formatted_name,\n",
    "            fl = ads_field_list,\n",
    "            max_pages = 50,\n",
    "        )\n",
    "        papers_i = list( q )\n",
    "        fa_bibcodes_i = [ _.bibcode for _ in papers_i ]\n",
    "        \n",
    "        scientists[name] = {\n",
    "            'bibcodes': bibcodes_i,\n",
    "            'first-author bibcodes': fa_bibcodes_i,\n",
    "            'institution': row['Institution'],\n",
    "        }\n",
    "\n",
    "        bibcodes += bibcodes_i\n",
    "        \n",
    "    scientists.to_hdf5( scientists_fp )"
   ]
  },
  {
   "cell_type": "code",
   "execution_count": null,
   "id": "341179df-133f-4210-a34d-f457b08eacef",
   "metadata": {},
   "outputs": [],
   "source": [
    "if retrieve_data:\n",
    "    # Format data into a useable class\n",
    "    a = atlas.Atlas.from_bibcodes( atlas_dir, bibcodes )\n",
    "    a.get_ads_data()\n",
    "    a.save_data()"
   ]
  },
  {
   "cell_type": "code",
   "execution_count": null,
   "id": "d09e8642-e450-4e5d-80c9-d4d8f916e591",
   "metadata": {},
   "outputs": [],
   "source": [
    "if retrieve_data:\n",
    "    # Vectorization\n",
    "    vp_dict = a.vectorize()\n",
    "    c = cartography.Cartographer( **vp_dict )"
   ]
  },
  {
   "cell_type": "code",
   "execution_count": null,
   "id": "df2073b9-891b-4ca1-8bd8-f91708ac93b5",
   "metadata": {},
   "outputs": [],
   "source": [
    "if retrieve_data:\n",
    "    # Correlate vectorized data with bibcodes\n",
    "    for name, scientist in scientists.items():\n",
    "        isin = pd.Series( c.publications ).isin( scientist['bibcodes'] )\n",
    "        scientist['indices'] = isin.index[isin].values\n",
    "        \n",
    "        isin = pd.Series( c.publications ).isin( scientist['first-author bibcodes'] )\n",
    "        scientist['first-author indices'] = isin.index[isin].values\n",
    "\n",
    "    scientists.to_hdf5( scientists_fp )"
   ]
  },
  {
   "cell_type": "markdown",
   "id": "5edbfd78-49a2-4918-abf1-e2453d1fa1bc",
   "metadata": {},
   "source": [
    "# Load Processed Data"
   ]
  },
  {
   "cell_type": "code",
   "execution_count": null,
   "id": "abc74255-374a-46fe-b583-dd4b54ca61df",
   "metadata": {},
   "outputs": [],
   "source": [
    "scientists = verdict.Dict.from_hdf5( scientists_fp )"
   ]
  },
  {
   "cell_type": "code",
   "execution_count": null,
   "id": "9355a1a8-4553-4a5f-8597-85871de8e355",
   "metadata": {},
   "outputs": [],
   "source": [
    "a = atlas.Atlas( atlas_dir, load_bibtex=False )"
   ]
  },
  {
   "cell_type": "code",
   "execution_count": null,
   "id": "71c2d96d-d099-4991-b0ce-1b238680993a",
   "metadata": {},
   "outputs": [],
   "source": [
    "c = cartography.Cartographer.from_hdf5( os.path.join( atlas_dir, 'projection.h5' ) )"
   ]
  },
  {
   "cell_type": "markdown",
   "id": "fa2417df-d70d-4020-888d-96ab7471c014",
   "metadata": {},
   "source": [
    "# Identify Papers of Interest"
   ]
  },
  {
   "cell_type": "code",
   "execution_count": null,
   "id": "050e5efe-e611-40cf-9097-3c4b7109b0d1",
   "metadata": {},
   "outputs": [],
   "source": [
    "# Calculate number of citations\n",
    "citations_per_year = np.array([ a[_].citations_per_year() for _ in c.publications ])\n",
    "citations = []\n",
    "for key in c.publications:\n",
    "    try:\n",
    "        citations.append( len( a[key].citations ) )\n",
    "    except TypeError:\n",
    "        citations.append( 0 )\n",
    "citations = np.array( citations )"
   ]
  },
  {
   "cell_type": "code",
   "execution_count": null,
   "id": "56a03e29-b9e4-4688-a0a1-ff461e8a5ce8",
   "metadata": {},
   "outputs": [],
   "source": [
    "def print_info( key, include_abstract=True ):\n",
    "    '''Function for displaying important info about a paper.'''\n",
    "    \n",
    "    print_str = ''\n",
    "    \n",
    "    title = a[key].citation['title']\n",
    "    title = title.replace( '{', '' ).replace( '}', '' )\n",
    "    print_str +=  '    {}\\n'.format( title )\n",
    "    \n",
    "    if 'author' in a[key].citation:\n",
    "        print_str += '    {}\\n'.format( a[key].citation['author'] )\n",
    "        \n",
    "    print_str += '    bibcode: {}    date: {}\\n\\n'.format( key, a[key].entry_date.split( 'T' )[0] )\n",
    "    if include_abstract:\n",
    "        print_str += '    {}\\n\\n'.format( a[key].abstract )\n",
    "    \n",
    "    return print_str"
   ]
  },
  {
   "cell_type": "code",
   "execution_count": null,
   "id": "a0c35c7c-486f-4f03-8703-b64ae226ae2e",
   "metadata": {},
   "outputs": [],
   "source": [
    "def choose_ind( sorted_inds, name ):\n",
    "    \n",
    "    for ind in sorted_inds:\n",
    "        key = c.publications[ind]\n",
    "        \n",
    "        # Filters\n",
    "        if ( 'AAS' in key ) or ( 'PhDT' in key ) or ( 'IAU' in key ) or ( 'prop' in key ):\n",
    "            continue\n",
    "        if name in bibtex_names and 'author' in a[key].citation:\n",
    "            if bibtex_names[name] not in a[key].citation['author']:\n",
    "                continue\n",
    "        \n",
    "        print( print_info( key ) )\n",
    "        \n",
    "        output = input( 'Accept? ' )\n",
    "        if output == '':\n",
    "            return ind"
   ]
  },
  {
   "cell_type": "code",
   "execution_count": null,
   "id": "c2c6d8ca-a81e-44ae-af54-afdd2405aa36",
   "metadata": {},
   "outputs": [],
   "source": [
    "selected_fp = os.path.join( atlas_dir, 'selected.h5' )\n",
    "if os.path.exists( selected_fp ):\n",
    "    selected = verdict.Dict.from_hdf5( selected_fp )\n",
    "    names = selected['names']\n",
    "    inds_recent = selected['most recent indices']\n",
    "    fa_inds_recent = selected['most recent first-author indices']\n",
    "    inds_lowcite = selected['least-cited indices']\n",
    "else:\n",
    "    names = []\n",
    "    inds_recent = []\n",
    "    fa_inds_recent = []\n",
    "    inds_lowcite = []"
   ]
  },
  {
   "cell_type": "code",
   "execution_count": null,
   "id": "58b00b5b-45a6-4dba-bc42-0e8c04fbecaf",
   "metadata": {
    "tags": []
   },
   "outputs": [],
   "source": [
    "for name, scientist in tqdm.tqdm( scientists.items() ):\n",
    "        \n",
    "    # Don't duplicate progress\n",
    "    if name in names:\n",
    "        continue\n",
    "        \n",
    "    print( '{}:'.format( name ) )\n",
    "    \n",
    "    inds = scientist['indices']\n",
    "    fa_inds = scientist['first-author indices']\n",
    "\n",
    "    # Find the most recent paper\n",
    "    print( '    MOST RECENT' )\n",
    "    sorted_recent = np.argsort( c.entry_dates[inds] )[::-1]\n",
    "    ind_most_recent = choose_ind( inds[sorted_recent], name )\n",
    "    \n",
    "    # Find the most recent first-author paper\n",
    "    print( '    MOST RECENT FIRST-AUTHOR' )\n",
    "    sorted_recent = np.argsort( c.entry_dates[fa_inds] )[::-1]\n",
    "    fa_ind_most_recent = choose_ind( fa_inds[sorted_recent], name )\n",
    "\n",
    "    # Filter out the paper we've already selected\n",
    "    fa_inds_o = list( fa_inds )\n",
    "    fa_inds_o.remove( fa_ind_most_recent )\n",
    "    fa_inds_o = np.array( fa_inds_o )\n",
    "\n",
    "    # Find the lowest-cited paper (with more than zero citations)\n",
    "    print( '    LOWEST CITATIONS' )\n",
    "    nonzero_citations = citations[fa_inds_o] > 0\n",
    "    sorted_lowcite = np.argsort( citations[fa_inds_o[nonzero_citations]] )\n",
    "    ind_lowcite = choose_ind( fa_inds_o[nonzero_citations][sorted_lowcite], name )\n",
    "    \n",
    "    names.append( name )\n",
    "    inds_recent.append( ind_most_recent )\n",
    "    fa_inds_recent.append( fa_ind_most_recent )\n",
    "    inds_lowcite.append( ind_lowcite )"
   ]
  },
  {
   "cell_type": "code",
   "execution_count": null,
   "id": "bc3bdab9-6ab4-43bf-9e18-06112ed0a63a",
   "metadata": {},
   "outputs": [],
   "source": [
    "# Save\n",
    "selected = verdict.Dict({\n",
    "    'names': names,\n",
    "    'most recent': c.publications[np.array(inds_recent)],\n",
    "    'most recent first-author': c.publications[np.array(fa_inds_recent)],\n",
    "    'least-cited': c.publications[np.array(inds_lowcite)],\n",
    "    'most recent indices': np.array(inds_recent),\n",
    "    'most recent first-author indices': np.array(fa_inds_recent),\n",
    "    'least-cited indices': np.array(inds_lowcite),\n",
    "})\n",
    "selected.to_hdf5( os.path.join( atlas_dir, 'selected.h5' ) )"
   ]
  },
  {
   "cell_type": "code",
   "execution_count": null,
   "id": "1e1301b6-a053-4b1c-acae-bfd7eed2c717",
   "metadata": {},
   "outputs": [],
   "source": [
    "def get_initials( name ):\n",
    "\n",
    "    name_split = name.split( ' ' )\n",
    "    return name_split[0][0] + name_split[-1][:2]"
   ]
  },
  {
   "cell_type": "code",
   "execution_count": null,
   "id": "dccf9e62-d35d-4d48-8871-791532756015",
   "metadata": {
    "tags": []
   },
   "outputs": [],
   "source": [
    "# Save in a readable format\n",
    "filestems = [ 'most_recent', 'most_recent_first_author', 'least_cited' ]\n",
    "all_inds = [ inds_recent, fa_inds_recent, inds_lowcite ]\n",
    "for k, inds in enumerate(all_inds):\n",
    "    \n",
    "    # Create save string\n",
    "    output_str = ''\n",
    "    for i, name in enumerate( names ):\n",
    "        \n",
    "        output_str += '{} ({}): {}\\n'.format(\n",
    "            get_initials( names[i] ),\n",
    "            i,\n",
    "            names[i]\n",
    "        )\n",
    "        output_str += print_info( c.publications[inds[i]], False )\n",
    "        \n",
    "    # Save\n",
    "    filename = filestems[k] + '.txt'\n",
    "    if os.path.isfile( filenames[k] ):\n",
    "        os.remove( filenames[k] )\n",
    "    with open( filenames[k], 'w' ) as f:\n",
    "        f.write( output_str )"
   ]
  },
  {
   "cell_type": "markdown",
   "id": "0d826ce6-de2c-45a1-bfe0-58143846456d",
   "metadata": {},
   "source": [
    "# Map"
   ]
  },
  {
   "cell_type": "code",
   "execution_count": null,
   "id": "72ead57a-5d54-451a-b721-def25fd710bf",
   "metadata": {},
   "outputs": [],
   "source": [
    "def new_c( inds ):\n",
    "    # Make a new cartographer from a subset of a previous one\n",
    "\n",
    "    attrs = [\n",
    "        'vectors',\n",
    "        'norms',\n",
    "        'feature_names',\n",
    "        'publications',\n",
    "        'publication_dates',\n",
    "        'entry_dates',\n",
    "    ]\n",
    "    vp_dict = {}\n",
    "    for attr in attrs:\n",
    "        vp_dict[attr] = getattr( c, attr )[inds]\n",
    "        \n",
    "    return cartography.Cartographer( **vp_dict )"
   ]
  },
  {
   "cell_type": "code",
   "execution_count": null,
   "id": "a52db5b2-0309-4fa1-bf3c-1181c2fe20cf",
   "metadata": {},
   "outputs": [],
   "source": [
    "def labels_formatter( i, m_i, c ):\n",
    "        \n",
    "    return get_initials( names[i] )"
   ]
  },
  {
   "cell_type": "code",
   "execution_count": null,
   "id": "a96e0856-8dd8-46fe-96bb-30ac9dfcd42c",
   "metadata": {},
   "outputs": [],
   "source": [
    "for k, inds in enumerate(all_inds):\n",
    "\n",
    "    for i, name in enumerate( names ):\n",
    "\n",
    "        if i > 0:\n",
    "            continue\n",
    "\n",
    "        used_inds = copy.deepcopy( inds )\n",
    "        used_inds[i] = fa_inds_recent[i]\n",
    "        key = c.publications[used_inds[i]]\n",
    "\n",
    "        c_inds = new_c( used_inds )\n",
    "\n",
    "        # Get the map\n",
    "        coords, inds, pairs = c_inds.map( key, )\n",
    "\n",
    "        # Plot the map\n",
    "        fig = plt.figure( figsize=(10,5) )\n",
    "        ax_dict = fig.subplot_mosaic( [[ 'initials', 'numbers' ],] )\n",
    "\n",
    "        img, _ = c_inds.plot_map(\n",
    "            key,\n",
    "            data = ( coords, inds, pairs ),\n",
    "            scatter = False,\n",
    "            links = True,\n",
    "            links_kwargs = { 'color': '0.9' },\n",
    "            histogram = False,\n",
    "            ax = ax_dict['initials'],\n",
    "            labels = True,\n",
    "            labels_formatter = labels_formatter,\n",
    "            labels_kwargs = { 'va': 'center', 'ha': 'center', 'xytext': ( 0, 0 ), },\n",
    "        )\n",
    "        ax_dict['initials'].annotate(\n",
    "            text = names[i],\n",
    "            xy = ( 0, 1 ),\n",
    "            xycoords = 'axes fraction',\n",
    "            xytext = ( 5, -5 ),\n",
    "            textcoords = 'offset points',\n",
    "            va = 'top',\n",
    "            ha = 'left',\n",
    "            fontsize = 14,\n",
    "        )\n",
    "\n",
    "        img, _ = c_inds.plot_map(\n",
    "            key,\n",
    "            data = ( coords, inds, pairs ),\n",
    "            range = [ np.nanmin( coords ), np.nanmax( coords ) ],\n",
    "            scatter = False,\n",
    "            links = True,\n",
    "            links_kwargs = { 'color': '0.9' },\n",
    "            histogram = False,\n",
    "            ax = ax_dict['numbers'],\n",
    "            labels = True,\n",
    "            labels_formatter = lambda i, m_i, c: i,\n",
    "            labels_kwargs = { 'va': 'center', 'ha': 'center', 'xytext': ( 0, 0 ), },\n",
    "        )\n",
    "\n",
    "        for ax_key, ax_ in ax_dict.items():\n",
    "             ax_.set_frame_on(False) \n",
    "\n",
    "        fig.tight_layout()\n",
    "\n",
    "        savedir = os.path.join( '.', 'figures', filestems[k] )\n",
    "        os.makedirs( savedir, exist_ok=True )\n",
    "        filename = names[i].replace( ' ', '_' ) + '.png'\n",
    "        plt.savefig(\n",
    "            os.path.join( savedir, filename )\n",
    "        )\n",
    "\n",
    "        plt.close()"
   ]
  },
  {
   "cell_type": "markdown",
   "id": "2e7caec7-ef87-45ec-a72b-9869da19ef32",
   "metadata": {},
   "source": [
    "# Cautions and Challenges"
   ]
  },
  {
   "cell_type": "markdown",
   "id": "20239497-792e-42ab-b9ba-818fc8301110",
   "metadata": {},
   "source": [
    "## Scientists with the same names"
   ]
  },
  {
   "cell_type": "markdown",
   "id": "15ea80d5-ffcd-4435-94f6-fa9a22e637f0",
   "metadata": {},
   "source": [
    "Some scientists have a lot of works, possibly because of other scientists with the same name."
   ]
  },
  {
   "cell_type": "code",
   "execution_count": null,
   "id": "1ff6445d-9432-4e14-8c60-4d02a3de6ebe",
   "metadata": {},
   "outputs": [],
   "source": [
    "n_papers = scientists.inner_item( 'bibcodes' ).apply( len )\n",
    "lots_of_papers = n_papers.array() > 100\n",
    "n_papers.keys_array()[lots_of_papers]"
   ]
  },
  {
   "cell_type": "code",
   "execution_count": null,
   "id": "528c1a87-4a3d-4dcb-a5db-7f3283e27567",
   "metadata": {},
   "outputs": [],
   "source": [
    "# Can potentially use orcid to identify publications actually associated with the scientist.\n",
    "\n",
    "# orcids = {\n",
    "#     'Stephanie Ho': '0000-0002-9607-7365',\n",
    "#     'Evan Schneider': '0000-0001-9735-7484',\n",
    "#     'Suzuki Nao': '0000-0001-7266-930X',\n",
    "#     'Kate Rubin': '0000-0001-6248-1864',\n",
    "#     'Alison Coil': '0000-0002-2583-5894',\n",
    "#     'Benjamin Weiner': '0000-0001-6065-7483',\n",
    "# }"
   ]
  },
  {
   "cell_type": "markdown",
   "id": "e2de31af-7416-444e-a79a-d0ba46296839",
   "metadata": {},
   "source": [
    "## Unofficial Publications"
   ]
  },
  {
   "cell_type": "markdown",
   "id": "c850e09b-d5f9-42e8-acb6-12d212eec93e",
   "metadata": {},
   "source": [
    "A lot of things are included here, e.g. PhD theses, proposals, etc."
   ]
  },
  {
   "cell_type": "markdown",
   "id": "b5ea958a-fbf6-4353-9d21-cd96fecab3e5",
   "metadata": {},
   "source": [
    "## Specifically Targeting Coauthor Works\n",
    "E.g. if we wanted to find the works of each scientist's most-junior collaborator.\n",
    "\n",
    "Unfortunately it takes a while to search ADS for this data."
   ]
  },
  {
   "cell_type": "code",
   "execution_count": null,
   "id": "50f6d5cb-ff35-49a2-a99c-062f1f4ffa30",
   "metadata": {},
   "outputs": [],
   "source": [
    "# Build a list of coauthors\n",
    "coauthors = []\n",
    "for name, scientist in tqdm.tqdm( scientists.items() ):\n",
    "    \n",
    "    inds = scientist['indices']\n",
    "    fa_inds = scientist['first-author indices']\n",
    "    \n",
    "    # Co-author papers\n",
    "    isin = pd.Series( inds ).isin( fa_inds )\n",
    "    co_inds = inds[np.invert( isin.values )]\n",
    "    \n",
    "    for co_ind in co_inds:\n",
    "        key = c.publications[co_ind]\n",
    "        try:\n",
    "            authors = a[key].citation['author']\n",
    "            first_author = authors.split( ' and ' )[0].replace( '{', '' ).replace( '}', '' )\n",
    "        except ( ValueError, KeyError ) as e:\n",
    "            continue\n",
    "        coauthors.append( first_author )\n",
    "coauthors = list( set( coauthors ) )"
   ]
  },
  {
   "cell_type": "code",
   "execution_count": null,
   "id": "c9823e76-6398-46b6-b009-3d44680fca76",
   "metadata": {},
   "outputs": [],
   "source": [
    "# Based on above search\n",
    "avg_seconds_per_author = 15."
   ]
  },
  {
   "cell_type": "code",
   "execution_count": null,
   "id": "415a1a22-299e-4fb7-9288-b2d7b300ff0b",
   "metadata": {},
   "outputs": [],
   "source": [
    "time_to_complete = len( coauthors ) * avg_seconds_per_author\n",
    "hours_to_complete = time_to_complete / 3600"
   ]
  },
  {
   "cell_type": "code",
   "execution_count": null,
   "id": "93b91b89-5d02-48cd-8b1f-e1e84f74ab73",
   "metadata": {},
   "outputs": [],
   "source": [
    "print( 'It would take {:.0f} hrs to search ADS for data on all {} coauthors.'.format( hours_to_complete, len( coauthors ) ) )"
   ]
  },
  {
   "cell_type": "markdown",
   "id": "5ae7161f-d54d-4870-b5af-abb7b9f2d5d1",
   "metadata": {},
   "source": [
    "## Better Similarity Estimates"
   ]
  },
  {
   "cell_type": "markdown",
   "id": "1756d405-b5b6-4ee2-bbaa-ac2538f8fbfd",
   "metadata": {},
   "source": [
    "Sometimes the \"similar\" works don't seem that similar.\n",
    "Could improve by adding more text, but that requires a better filter on included papers."
   ]
  },
  {
   "cell_type": "code",
   "execution_count": null,
   "id": "62193f0f-ce2b-425c-ab38-6141302e2715",
   "metadata": {},
   "outputs": [],
   "source": []
  }
 ],
 "metadata": {
  "kernelspec": {
   "display_name": "Python 3",
   "language": "python",
   "name": "python3"
  },
  "language_info": {
   "codemirror_mode": {
    "name": "ipython",
    "version": 3
   },
   "file_extension": ".py",
   "mimetype": "text/x-python",
   "name": "python",
   "nbconvert_exporter": "python",
   "pygments_lexer": "ipython3",
   "version": "3.9.6"
  }
 },
 "nbformat": 4,
 "nbformat_minor": 5
}
